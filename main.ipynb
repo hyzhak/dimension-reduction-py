{
 "cells": [
  {
   "cell_type": "markdown",
   "metadata": {},
   "source": [
    "# Dimension Reduction\n",
    "\n",
    "## Boston Housing Dataset\n",
    "- https://www.kaggle.com/c/boston-housing/\n",
    "- https://www.cs.toronto.edu/~delve/data/boston/bostonDetail.html"
   ]
  },
  {
   "cell_type": "code",
   "execution_count": 1,
   "metadata": {},
   "outputs": [
    {
     "name": "stderr",
     "output_type": "stream",
     "text": [
      "Using TensorFlow backend.\n"
     ]
    },
    {
     "name": "stdout",
     "output_type": "stream",
     "text": [
      "numpy.__version__ 1.15.1\n",
      "pandas.__version__ 0.23.4\n",
      "sns.__version__ 0.9.0\n"
     ]
    }
   ],
   "source": [
    "from keras.datasets import boston_housing\n",
    "import matplotlib.pyplot as plt\n",
    "import numpy as np\n",
    "import pandas as pd\n",
    "import seaborn as sns\n",
    "from sklearn.ensemble import RandomForestRegressor\n",
    "from sklearn.feature_selection import SelectFromModel\n",
    "\n",
    "print('numpy.__version__', np.__version__)\n",
    "print('pandas.__version__', pd.__version__)\n",
    "print('sns.__version__', sns.__version__)"
   ]
  },
  {
   "cell_type": "code",
   "execution_count": 2,
   "metadata": {},
   "outputs": [],
   "source": [
    "(x_train, y_train), (x_test, y_test) = boston_housing.load_data()"
   ]
  },
  {
   "cell_type": "code",
   "execution_count": 3,
   "metadata": {},
   "outputs": [
    {
     "name": "stdout",
     "output_type": "stream",
     "text": [
      "features ['CRIM', 'ZN', 'INDUS', 'CHAS', 'NOX', 'RM', 'AGE', 'DIS', 'RAD', 'TAX', 'PTRATIO', 'B', 'LSTAT']\n"
     ]
    }
   ],
   "source": [
    "columns = {\n",
    "    'CRIM': 'per capita crime rate by town',\n",
    "    'ZN': 'proportion of residential land zoned for lots over 25,000 sq.ft.',\n",
    "    'INDUS': 'proportion of non-retail business acres per town.',\n",
    "    'CHAS': 'Charles River dummy variable (1 if tract bounds river; 0 otherwise)',\n",
    "    'NOX': 'nitric oxides concentration (parts per 10 million)',\n",
    "    'RM': 'average number of rooms per dwelling',\n",
    "    'AGE': 'proportion of owner-occupied units built prior to 1940',\n",
    "    'DIS': 'weighted distances to five Boston employment centres',\n",
    "    'RAD': 'index of accessibility to radial highways',\n",
    "    'TAX': 'full-value property-tax rate per $10,000',\n",
    "    'PTRATIO': 'pupil-teacher ratio by town',\n",
    "    'B': '1000(Bk - 0.63)^2 where Bk is the proportion of blacks by town',\n",
    "    'LSTAT': '% lower status of the population',\n",
    "    'MEDV': 'Median value of owner-occupied homes in $1000\\'s',\n",
    "}\n",
    "features = list(columns.keys())[:-1]\n",
    "print('features', features)"
   ]
  },
  {
   "cell_type": "code",
   "execution_count": 4,
   "metadata": {},
   "outputs": [
    {
     "data": {
      "text/html": [
       "<div>\n",
       "<style scoped>\n",
       "    .dataframe tbody tr th:only-of-type {\n",
       "        vertical-align: middle;\n",
       "    }\n",
       "\n",
       "    .dataframe tbody tr th {\n",
       "        vertical-align: top;\n",
       "    }\n",
       "\n",
       "    .dataframe thead th {\n",
       "        text-align: right;\n",
       "    }\n",
       "</style>\n",
       "<table border=\"1\" class=\"dataframe\">\n",
       "  <thead>\n",
       "    <tr style=\"text-align: right;\">\n",
       "      <th></th>\n",
       "      <th>CRIM</th>\n",
       "      <th>ZN</th>\n",
       "      <th>INDUS</th>\n",
       "      <th>CHAS</th>\n",
       "      <th>NOX</th>\n",
       "      <th>RM</th>\n",
       "      <th>AGE</th>\n",
       "      <th>DIS</th>\n",
       "      <th>RAD</th>\n",
       "      <th>TAX</th>\n",
       "      <th>PTRATIO</th>\n",
       "      <th>B</th>\n",
       "      <th>LSTAT</th>\n",
       "    </tr>\n",
       "  </thead>\n",
       "  <tbody>\n",
       "    <tr>\n",
       "      <th>399</th>\n",
       "      <td>0.21977</td>\n",
       "      <td>0.0</td>\n",
       "      <td>6.91</td>\n",
       "      <td>0.0</td>\n",
       "      <td>0.4480</td>\n",
       "      <td>5.602</td>\n",
       "      <td>62.0</td>\n",
       "      <td>6.0877</td>\n",
       "      <td>3.0</td>\n",
       "      <td>233.0</td>\n",
       "      <td>17.9</td>\n",
       "      <td>396.90</td>\n",
       "      <td>16.20</td>\n",
       "    </tr>\n",
       "    <tr>\n",
       "      <th>400</th>\n",
       "      <td>0.16211</td>\n",
       "      <td>20.0</td>\n",
       "      <td>6.96</td>\n",
       "      <td>0.0</td>\n",
       "      <td>0.4640</td>\n",
       "      <td>6.240</td>\n",
       "      <td>16.3</td>\n",
       "      <td>4.4290</td>\n",
       "      <td>3.0</td>\n",
       "      <td>223.0</td>\n",
       "      <td>18.6</td>\n",
       "      <td>396.90</td>\n",
       "      <td>6.59</td>\n",
       "    </tr>\n",
       "    <tr>\n",
       "      <th>401</th>\n",
       "      <td>0.03466</td>\n",
       "      <td>35.0</td>\n",
       "      <td>6.06</td>\n",
       "      <td>0.0</td>\n",
       "      <td>0.4379</td>\n",
       "      <td>6.031</td>\n",
       "      <td>23.3</td>\n",
       "      <td>6.6407</td>\n",
       "      <td>1.0</td>\n",
       "      <td>304.0</td>\n",
       "      <td>16.9</td>\n",
       "      <td>362.25</td>\n",
       "      <td>7.83</td>\n",
       "    </tr>\n",
       "    <tr>\n",
       "      <th>402</th>\n",
       "      <td>2.14918</td>\n",
       "      <td>0.0</td>\n",
       "      <td>19.58</td>\n",
       "      <td>0.0</td>\n",
       "      <td>0.8710</td>\n",
       "      <td>5.709</td>\n",
       "      <td>98.5</td>\n",
       "      <td>1.6232</td>\n",
       "      <td>5.0</td>\n",
       "      <td>403.0</td>\n",
       "      <td>14.7</td>\n",
       "      <td>261.95</td>\n",
       "      <td>15.79</td>\n",
       "    </tr>\n",
       "    <tr>\n",
       "      <th>403</th>\n",
       "      <td>0.01439</td>\n",
       "      <td>60.0</td>\n",
       "      <td>2.93</td>\n",
       "      <td>0.0</td>\n",
       "      <td>0.4010</td>\n",
       "      <td>6.604</td>\n",
       "      <td>18.8</td>\n",
       "      <td>6.2196</td>\n",
       "      <td>1.0</td>\n",
       "      <td>265.0</td>\n",
       "      <td>15.6</td>\n",
       "      <td>376.70</td>\n",
       "      <td>4.38</td>\n",
       "    </tr>\n",
       "  </tbody>\n",
       "</table>\n",
       "</div>"
      ],
      "text/plain": [
       "        CRIM    ZN  INDUS  CHAS  ...      TAX  PTRATIO       B  LSTAT\n",
       "399  0.21977   0.0   6.91   0.0  ...    233.0     17.9  396.90  16.20\n",
       "400  0.16211  20.0   6.96   0.0  ...    223.0     18.6  396.90   6.59\n",
       "401  0.03466  35.0   6.06   0.0  ...    304.0     16.9  362.25   7.83\n",
       "402  2.14918   0.0  19.58   0.0  ...    403.0     14.7  261.95  15.79\n",
       "403  0.01439  60.0   2.93   0.0  ...    265.0     15.6  376.70   4.38\n",
       "\n",
       "[5 rows x 13 columns]"
      ]
     },
     "execution_count": 4,
     "metadata": {},
     "output_type": "execute_result"
    }
   ],
   "source": [
    "x_train_pd = pd.DataFrame(x_train, columns=features)\n",
    "x_train_pd.tail()"
   ]
  },
  {
   "cell_type": "markdown",
   "metadata": {},
   "source": [
    "## Null elements\n",
    "Dataset of Boston houses doesn't have null elements"
   ]
  },
  {
   "cell_type": "code",
   "execution_count": 5,
   "metadata": {},
   "outputs": [
    {
     "data": {
      "text/plain": [
       "CRIM       0.0\n",
       "ZN         0.0\n",
       "INDUS      0.0\n",
       "CHAS       0.0\n",
       "NOX        0.0\n",
       "RM         0.0\n",
       "AGE        0.0\n",
       "DIS        0.0\n",
       "RAD        0.0\n",
       "TAX        0.0\n",
       "PTRATIO    0.0\n",
       "B          0.0\n",
       "LSTAT      0.0\n",
       "dtype: float64"
      ]
     },
     "execution_count": 5,
     "metadata": {},
     "output_type": "execute_result"
    }
   ],
   "source": [
    "x_train_pd.isnull().sum()/len(x_train_pd) * 100"
   ]
  },
  {
   "cell_type": "markdown",
   "metadata": {},
   "source": [
    "## Variance"
   ]
  },
  {
   "cell_type": "code",
   "execution_count": 6,
   "metadata": {},
   "outputs": [
    {
     "data": {
      "text/plain": [
       "CRIM          85.391172\n",
       "ZN           564.904073\n",
       "INDUS         46.393911\n",
       "CHAS           0.058196\n",
       "NOX            0.013758\n",
       "RM             0.503798\n",
       "AGE          780.680755\n",
       "DIS            4.121772\n",
       "RAD           75.661475\n",
       "TAX        27680.488435\n",
       "PTRATIO        4.841680\n",
       "B           8856.908142\n",
       "LSTAT         52.628420\n",
       "dtype: float64"
      ]
     },
     "execution_count": 6,
     "metadata": {},
     "output_type": "execute_result"
    }
   ],
   "source": [
    "x_train_pd.var()"
   ]
  },
  {
   "cell_type": "markdown",
   "metadata": {},
   "source": [
    "## Correlation\n"
   ]
  },
  {
   "cell_type": "code",
   "execution_count": 7,
   "metadata": {},
   "outputs": [
    {
     "data": {
      "text/html": [
       "<div>\n",
       "<style scoped>\n",
       "    .dataframe tbody tr th:only-of-type {\n",
       "        vertical-align: middle;\n",
       "    }\n",
       "\n",
       "    .dataframe tbody tr th {\n",
       "        vertical-align: top;\n",
       "    }\n",
       "\n",
       "    .dataframe thead th {\n",
       "        text-align: right;\n",
       "    }\n",
       "</style>\n",
       "<table border=\"1\" class=\"dataframe\">\n",
       "  <thead>\n",
       "    <tr style=\"text-align: right;\">\n",
       "      <th></th>\n",
       "      <th>CRIM</th>\n",
       "      <th>ZN</th>\n",
       "      <th>INDUS</th>\n",
       "      <th>CHAS</th>\n",
       "      <th>NOX</th>\n",
       "      <th>RM</th>\n",
       "      <th>AGE</th>\n",
       "      <th>DIS</th>\n",
       "      <th>RAD</th>\n",
       "      <th>TAX</th>\n",
       "      <th>PTRATIO</th>\n",
       "      <th>B</th>\n",
       "      <th>LSTAT</th>\n",
       "    </tr>\n",
       "  </thead>\n",
       "  <tbody>\n",
       "    <tr>\n",
       "      <th>CRIM</th>\n",
       "      <td>1.000000</td>\n",
       "      <td>-0.192179</td>\n",
       "      <td>0.397419</td>\n",
       "      <td>-0.050828</td>\n",
       "      <td>0.405765</td>\n",
       "      <td>-0.217597</td>\n",
       "      <td>0.344410</td>\n",
       "      <td>-0.378590</td>\n",
       "      <td>0.609689</td>\n",
       "      <td>0.575652</td>\n",
       "      <td>0.273447</td>\n",
       "      <td>-0.390613</td>\n",
       "      <td>0.434384</td>\n",
       "    </tr>\n",
       "    <tr>\n",
       "      <th>ZN</th>\n",
       "      <td>-0.192179</td>\n",
       "      <td>1.000000</td>\n",
       "      <td>-0.533823</td>\n",
       "      <td>-0.041981</td>\n",
       "      <td>-0.521713</td>\n",
       "      <td>0.338683</td>\n",
       "      <td>-0.578728</td>\n",
       "      <td>0.650787</td>\n",
       "      <td>-0.311091</td>\n",
       "      <td>-0.303522</td>\n",
       "      <td>-0.403139</td>\n",
       "      <td>0.176006</td>\n",
       "      <td>-0.415237</td>\n",
       "    </tr>\n",
       "    <tr>\n",
       "      <th>INDUS</th>\n",
       "      <td>0.397419</td>\n",
       "      <td>-0.533823</td>\n",
       "      <td>1.000000</td>\n",
       "      <td>0.052839</td>\n",
       "      <td>0.774200</td>\n",
       "      <td>-0.409924</td>\n",
       "      <td>0.656350</td>\n",
       "      <td>-0.725155</td>\n",
       "      <td>0.599226</td>\n",
       "      <td>0.701362</td>\n",
       "      <td>0.379284</td>\n",
       "      <td>-0.372885</td>\n",
       "      <td>0.603129</td>\n",
       "    </tr>\n",
       "    <tr>\n",
       "      <th>CHAS</th>\n",
       "      <td>-0.050828</td>\n",
       "      <td>-0.041981</td>\n",
       "      <td>0.052839</td>\n",
       "      <td>1.000000</td>\n",
       "      <td>0.079803</td>\n",
       "      <td>0.040431</td>\n",
       "      <td>0.080488</td>\n",
       "      <td>-0.083101</td>\n",
       "      <td>-0.024851</td>\n",
       "      <td>-0.051343</td>\n",
       "      <td>-0.122008</td>\n",
       "      <td>0.037832</td>\n",
       "      <td>-0.011017</td>\n",
       "    </tr>\n",
       "    <tr>\n",
       "      <th>NOX</th>\n",
       "      <td>0.405765</td>\n",
       "      <td>-0.521713</td>\n",
       "      <td>0.774200</td>\n",
       "      <td>0.079803</td>\n",
       "      <td>1.000000</td>\n",
       "      <td>-0.335866</td>\n",
       "      <td>0.729338</td>\n",
       "      <td>-0.777062</td>\n",
       "      <td>0.616535</td>\n",
       "      <td>0.673471</td>\n",
       "      <td>0.188160</td>\n",
       "      <td>-0.409479</td>\n",
       "      <td>0.592994</td>\n",
       "    </tr>\n",
       "    <tr>\n",
       "      <th>RM</th>\n",
       "      <td>-0.217597</td>\n",
       "      <td>0.338683</td>\n",
       "      <td>-0.409924</td>\n",
       "      <td>0.040431</td>\n",
       "      <td>-0.335866</td>\n",
       "      <td>1.000000</td>\n",
       "      <td>-0.240875</td>\n",
       "      <td>0.233970</td>\n",
       "      <td>-0.243990</td>\n",
       "      <td>-0.307904</td>\n",
       "      <td>-0.367256</td>\n",
       "      <td>0.145525</td>\n",
       "      <td>-0.610844</td>\n",
       "    </tr>\n",
       "    <tr>\n",
       "      <th>AGE</th>\n",
       "      <td>0.344410</td>\n",
       "      <td>-0.578728</td>\n",
       "      <td>0.656350</td>\n",
       "      <td>0.080488</td>\n",
       "      <td>0.729338</td>\n",
       "      <td>-0.240875</td>\n",
       "      <td>1.000000</td>\n",
       "      <td>-0.766670</td>\n",
       "      <td>0.462188</td>\n",
       "      <td>0.512746</td>\n",
       "      <td>0.282193</td>\n",
       "      <td>-0.278403</td>\n",
       "      <td>0.590898</td>\n",
       "    </tr>\n",
       "    <tr>\n",
       "      <th>DIS</th>\n",
       "      <td>-0.378590</td>\n",
       "      <td>0.650787</td>\n",
       "      <td>-0.725155</td>\n",
       "      <td>-0.083101</td>\n",
       "      <td>-0.777062</td>\n",
       "      <td>0.233970</td>\n",
       "      <td>-0.766670</td>\n",
       "      <td>1.000000</td>\n",
       "      <td>-0.511179</td>\n",
       "      <td>-0.543668</td>\n",
       "      <td>-0.243067</td>\n",
       "      <td>0.295995</td>\n",
       "      <td>-0.507075</td>\n",
       "    </tr>\n",
       "    <tr>\n",
       "      <th>RAD</th>\n",
       "      <td>0.609689</td>\n",
       "      <td>-0.311091</td>\n",
       "      <td>0.599226</td>\n",
       "      <td>-0.024851</td>\n",
       "      <td>0.616535</td>\n",
       "      <td>-0.243990</td>\n",
       "      <td>0.462188</td>\n",
       "      <td>-0.511179</td>\n",
       "      <td>1.000000</td>\n",
       "      <td>0.922676</td>\n",
       "      <td>0.449908</td>\n",
       "      <td>-0.478245</td>\n",
       "      <td>0.490250</td>\n",
       "    </tr>\n",
       "    <tr>\n",
       "      <th>TAX</th>\n",
       "      <td>0.575652</td>\n",
       "      <td>-0.303522</td>\n",
       "      <td>0.701362</td>\n",
       "      <td>-0.051343</td>\n",
       "      <td>0.673471</td>\n",
       "      <td>-0.307904</td>\n",
       "      <td>0.512746</td>\n",
       "      <td>-0.543668</td>\n",
       "      <td>0.922676</td>\n",
       "      <td>1.000000</td>\n",
       "      <td>0.440499</td>\n",
       "      <td>-0.471777</td>\n",
       "      <td>0.534752</td>\n",
       "    </tr>\n",
       "    <tr>\n",
       "      <th>PTRATIO</th>\n",
       "      <td>0.273447</td>\n",
       "      <td>-0.403139</td>\n",
       "      <td>0.379284</td>\n",
       "      <td>-0.122008</td>\n",
       "      <td>0.188160</td>\n",
       "      <td>-0.367256</td>\n",
       "      <td>0.282193</td>\n",
       "      <td>-0.243067</td>\n",
       "      <td>0.449908</td>\n",
       "      <td>0.440499</td>\n",
       "      <td>1.000000</td>\n",
       "      <td>-0.178060</td>\n",
       "      <td>0.365873</td>\n",
       "    </tr>\n",
       "    <tr>\n",
       "      <th>B</th>\n",
       "      <td>-0.390613</td>\n",
       "      <td>0.176006</td>\n",
       "      <td>-0.372885</td>\n",
       "      <td>0.037832</td>\n",
       "      <td>-0.409479</td>\n",
       "      <td>0.145525</td>\n",
       "      <td>-0.278403</td>\n",
       "      <td>0.295995</td>\n",
       "      <td>-0.478245</td>\n",
       "      <td>-0.471777</td>\n",
       "      <td>-0.178060</td>\n",
       "      <td>1.000000</td>\n",
       "      <td>-0.376081</td>\n",
       "    </tr>\n",
       "    <tr>\n",
       "      <th>LSTAT</th>\n",
       "      <td>0.434384</td>\n",
       "      <td>-0.415237</td>\n",
       "      <td>0.603129</td>\n",
       "      <td>-0.011017</td>\n",
       "      <td>0.592994</td>\n",
       "      <td>-0.610844</td>\n",
       "      <td>0.590898</td>\n",
       "      <td>-0.507075</td>\n",
       "      <td>0.490250</td>\n",
       "      <td>0.534752</td>\n",
       "      <td>0.365873</td>\n",
       "      <td>-0.376081</td>\n",
       "      <td>1.000000</td>\n",
       "    </tr>\n",
       "  </tbody>\n",
       "</table>\n",
       "</div>"
      ],
      "text/plain": [
       "             CRIM        ZN     INDUS    ...      PTRATIO         B     LSTAT\n",
       "CRIM     1.000000 -0.192179  0.397419    ...     0.273447 -0.390613  0.434384\n",
       "ZN      -0.192179  1.000000 -0.533823    ...    -0.403139  0.176006 -0.415237\n",
       "INDUS    0.397419 -0.533823  1.000000    ...     0.379284 -0.372885  0.603129\n",
       "CHAS    -0.050828 -0.041981  0.052839    ...    -0.122008  0.037832 -0.011017\n",
       "NOX      0.405765 -0.521713  0.774200    ...     0.188160 -0.409479  0.592994\n",
       "RM      -0.217597  0.338683 -0.409924    ...    -0.367256  0.145525 -0.610844\n",
       "AGE      0.344410 -0.578728  0.656350    ...     0.282193 -0.278403  0.590898\n",
       "DIS     -0.378590  0.650787 -0.725155    ...    -0.243067  0.295995 -0.507075\n",
       "RAD      0.609689 -0.311091  0.599226    ...     0.449908 -0.478245  0.490250\n",
       "TAX      0.575652 -0.303522  0.701362    ...     0.440499 -0.471777  0.534752\n",
       "PTRATIO  0.273447 -0.403139  0.379284    ...     1.000000 -0.178060  0.365873\n",
       "B       -0.390613  0.176006 -0.372885    ...    -0.178060  1.000000 -0.376081\n",
       "LSTAT    0.434384 -0.415237  0.603129    ...     0.365873 -0.376081  1.000000\n",
       "\n",
       "[13 rows x 13 columns]"
      ]
     },
     "execution_count": 7,
     "metadata": {},
     "output_type": "execute_result"
    }
   ],
   "source": [
    "x_train_pd.corr()"
   ]
  },
  {
   "cell_type": "markdown",
   "metadata": {},
   "source": [
    "## Random Forest\n",
    "use random forest to detect and extract 2 the most important features"
   ]
  },
  {
   "cell_type": "code",
   "execution_count": 8,
   "metadata": {},
   "outputs": [
    {
     "name": "stderr",
     "output_type": "stream",
     "text": [
      "/opt/conda/lib/python3.6/site-packages/sklearn/ensemble/forest.py:248: FutureWarning: The default value of n_estimators will change from 10 in version 0.20 to 100 in 0.22.\n",
      "  \"10 in version 0.20 to 100 in 0.22.\", FutureWarning)\n"
     ]
    },
    {
     "data": {
      "text/plain": [
       "RandomForestRegressor(bootstrap=True, criterion='mse', max_depth=10,\n",
       "           max_features='auto', max_leaf_nodes=None,\n",
       "           min_impurity_decrease=0.0, min_impurity_split=None,\n",
       "           min_samples_leaf=1, min_samples_split=2,\n",
       "           min_weight_fraction_leaf=0.0, n_estimators=10, n_jobs=None,\n",
       "           oob_score=False, random_state=1, verbose=0, warm_start=False)"
      ]
     },
     "execution_count": 8,
     "metadata": {},
     "output_type": "execute_result"
    }
   ],
   "source": [
    "model = RandomForestRegressor(random_state=1, max_depth=10)\n",
    "model.fit(x_train_pd, y_train)"
   ]
  },
  {
   "cell_type": "code",
   "execution_count": 9,
   "metadata": {},
   "outputs": [
    {
     "data": {
      "image/png": "[encoded data removed]",
      "text/plain": [
       "<Figure size 432x288 with 1 Axes>"
      ]
     },
     "metadata": {
      "needs_background": "light"
     },
     "output_type": "display_data"
    }
   ],
   "source": [
    "importances = model.feature_importances_\n",
    "importance_indices = np.argsort(importances)[-9:]  # top 10 features\n",
    "plt.title('Feature Importances')\n",
    "plt.barh(range(len(importance_indices)), importances[importance_indices], color='b', align='center')\n",
    "plt.yticks(range(len(importance_indices)), [features[i] for i in importance_indices])\n",
    "plt.xlabel('Relative Importance')\n",
    "plt.show()"
   ]
  },
  {
   "cell_type": "markdown",
   "metadata": {},
   "source": [
    "Select 2 the most important features"
   ]
  },
  {
   "cell_type": "code",
   "execution_count": 10,
   "metadata": {},
   "outputs": [
    {
     "data": {
      "text/html": [
       "<div>\n",
       "<style scoped>\n",
       "    .dataframe tbody tr th:only-of-type {\n",
       "        vertical-align: middle;\n",
       "    }\n",
       "\n",
       "    .dataframe tbody tr th {\n",
       "        vertical-align: top;\n",
       "    }\n",
       "\n",
       "    .dataframe thead th {\n",
       "        text-align: right;\n",
       "    }\n",
       "</style>\n",
       "<table border=\"1\" class=\"dataframe\">\n",
       "  <thead>\n",
       "    <tr style=\"text-align: right;\">\n",
       "      <th></th>\n",
       "      <th>RM</th>\n",
       "      <th>LSTAT</th>\n",
       "      <th>cost</th>\n",
       "    </tr>\n",
       "  </thead>\n",
       "  <tbody>\n",
       "    <tr>\n",
       "      <th>399</th>\n",
       "      <td>5.602</td>\n",
       "      <td>16.20</td>\n",
       "      <td>19.4</td>\n",
       "    </tr>\n",
       "    <tr>\n",
       "      <th>400</th>\n",
       "      <td>6.240</td>\n",
       "      <td>6.59</td>\n",
       "      <td>25.2</td>\n",
       "    </tr>\n",
       "    <tr>\n",
       "      <th>401</th>\n",
       "      <td>6.031</td>\n",
       "      <td>7.83</td>\n",
       "      <td>19.4</td>\n",
       "    </tr>\n",
       "    <tr>\n",
       "      <th>402</th>\n",
       "      <td>5.709</td>\n",
       "      <td>15.79</td>\n",
       "      <td>19.4</td>\n",
       "    </tr>\n",
       "    <tr>\n",
       "      <th>403</th>\n",
       "      <td>6.604</td>\n",
       "      <td>4.38</td>\n",
       "      <td>29.1</td>\n",
       "    </tr>\n",
       "  </tbody>\n",
       "</table>\n",
       "</div>"
      ],
      "text/plain": [
       "        RM  LSTAT  cost\n",
       "399  5.602  16.20  19.4\n",
       "400  6.240   6.59  25.2\n",
       "401  6.031   7.83  19.4\n",
       "402  5.709  15.79  19.4\n",
       "403  6.604   4.38  29.1"
      ]
     },
     "execution_count": 10,
     "metadata": {},
     "output_type": "execute_result"
    }
   ],
   "source": [
    "feature = SelectFromModel(model)\n",
    "important_features = feature.fit_transform(x_train_pd, y_train)\n",
    "\n",
    "feature_x = features[importance_indices[-1]]\n",
    "feature_y = features[importance_indices[-2]]\n",
    "\n",
    "fit_to_2d = np.hstack((important_features, np.expand_dims(y_train, axis=1)))\n",
    "fit_to_2d_pd = pd.DataFrame(fit_to_2d, columns=[feature_x, feature_y, 'cost'])\n",
    "fit_to_2d_pd.tail()"
   ]
  },
  {
   "cell_type": "code",
   "execution_count": 11,
   "metadata": {},
   "outputs": [
    {
     "name": "stderr",
     "output_type": "stream",
     "text": [
      "/opt/conda/lib/python3.6/site-packages/scipy/stats/stats.py:1713: FutureWarning: Using a non-tuple sequence for multidimensional indexing is deprecated; use `arr[tuple(seq)]` instead of `arr[seq]`. In the future this will be interpreted as an array index, `arr[np.array(seq)]`, which will result either in an error or a different result.\n",
      "  return np.add.reduce(sorted[indexer] * weights, axis=axis) / sumval\n"
     ]
    },
    {
     "data": {
      "image/png": "[encoded data removed]",
      "text/plain": [
       "<Figure size 504x504 with 3 Axes>"
      ]
     },
     "metadata": {
      "needs_background": "light"
     },
     "output_type": "display_data"
    }
   ],
   "source": [
    "g = sns.jointplot(x=feature_x, y=feature_y, data=fit_to_2d_pd, kind=\"kde\", height=7, space=0)"
   ]
  },
  {
   "cell_type": "code",
   "execution_count": 12,
   "metadata": {},
   "outputs": [
    {
     "data": {
      "text/plain": [
       "<matplotlib.axes._subplots.AxesSubplot at 0x7f2c9b881908>"
      ]
     },
     "execution_count": 12,
     "metadata": {},
     "output_type": "execute_result"
    },
    {
     "data": {
      "image/png": "[encoded data removed]",
      "text/plain": [
       "<Figure size 432x288 with 1 Axes>"
      ]
     },
     "metadata": {
      "needs_background": "light"
     },
     "output_type": "display_data"
    }
   ],
   "source": [
    "sns.scatterplot(x=feature_x, y=feature_y,\n",
    "                size='cost', hue=\"cost\", \n",
    "                data=fit_to_2d_pd)"
   ]
  },
  {
   "cell_type": "code",
   "execution_count": null,
   "metadata": {},
   "outputs": [],
   "source": []
  }
 ],
 "metadata": {
  "kernelspec": {
   "display_name": "Python 3",
   "language": "python",
   "name": "python3"
  },
  "language_info": {
   "codemirror_mode": {
    "name": "ipython",
    "version": 3
   },
   "file_extension": ".py",
   "mimetype": "text/x-python",
   "name": "python",
   "nbconvert_exporter": "python",
   "pygments_lexer": "ipython3",
   "version": "3.6.6"
  }
 },
 "nbformat": 4,
 "nbformat_minor": 2
}
